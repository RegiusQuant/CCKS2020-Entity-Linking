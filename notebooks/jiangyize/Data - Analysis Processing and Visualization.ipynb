{
 "cells": [
  {
   "cell_type": "code",
   "execution_count": 62,
   "metadata": {},
   "outputs": [],
   "source": [
    "%matplotlib inline\n",
    "\n",
    "import json\n",
    "from collections import defaultdict, Counter\n",
    "from pathlib import Path\n",
    "\n",
    "import pandas as pd\n",
    "import matplotlib.pyplot as plt\n",
    "import seaborn as sns\n",
    "\n",
    "\n",
    "raw_path = Path('/home/bnu/projects/CCKS2020-Entity-Linking/data/ccks2020_el_data_v1')"
   ]
  },
  {
   "cell_type": "code",
   "execution_count": 63,
   "metadata": {},
   "outputs": [],
   "source": [
    "entity_to_kbids = defaultdict(set)\n",
    "kbid_to_entities = dict()\n",
    "kbid_to_text = dict()\n",
    "kbid_to_types = dict()\n",
    "\n",
    "idx_to_type = []\n",
    "type_to_idx = dict()\n",
    "\n",
    "with open(raw_path/'kb.json', 'r') as f:\n",
    "    for i, line in enumerate(f):\n",
    "        temp = json.loads(line)\n",
    "        \n",
    "        kbid = temp['subject_id']\n",
    "        entities = set(temp['alias'])\n",
    "        entities.add(temp['subject'])\n",
    "        for entity in entities:\n",
    "            entity_to_kbids[entity].add(kbid)\n",
    "        kbid_to_entities[kbid] = entities\n",
    "        \n",
    "        data_list = []\n",
    "        for x in temp['data']:\n",
    "            data_list.append(':'.join([x['predicate'], x['object']]))\n",
    "        kbid_to_text[kbid] = ' '.join(data_list)\n",
    "        \n",
    "        type_list = temp['type'].split('|')\n",
    "        kbid_to_types[kbid] = type_list\n",
    "        for t in type_list:\n",
    "            if t not in type_to_idx:\n",
    "                type_to_idx[t] = len(idx_to_type)\n",
    "                idx_to_type.append(t)        "
   ]
  },
  {
   "cell_type": "code",
   "execution_count": 64,
   "metadata": {},
   "outputs": [
    {
     "name": "stdout",
     "output_type": "stream",
     "text": [
      "知识库大小： 324418\n",
      "实体数量： 278668\n",
      "上位类型数量： 24\n"
     ]
    }
   ],
   "source": [
    "print('知识库大小：', len(kbid_to_entities))\n",
    "print('实体数量：', len(entity_to_kbids))\n",
    "print('上位类型数量：', len(type_to_idx))"
   ]
  },
  {
   "cell_type": "code",
   "execution_count": 65,
   "metadata": {},
   "outputs": [
    {
     "name": "stdout",
     "output_type": "stream",
     "text": [
      "包含有大量KBID的实体：\n",
      "张健 181\n",
      "李明 229\n",
      "杨林 107\n",
      "王芳 146\n",
      "刘涛 120\n",
      "张明 157\n",
      "张华 158\n",
      "张宇 111\n",
      "张建军 109\n",
      "刘杰 156\n",
      "陈涛 122\n",
      "杨帆 128\n",
      "李磊 103\n",
      "刘斌 171\n",
      "李峰 136\n",
      "刘伟 206\n",
      "王建国 133\n",
      "陈刚 184\n",
      "张敏 161\n",
      "陈军 144\n",
      "王伟 259\n",
      "杨军 185\n",
      "张涛 188\n",
      "李平 175\n",
      "陈斌 103\n",
      "张辉 134\n",
      "李强 220\n",
      "王旭 112\n",
      "张杰 157\n",
      "李杰 156\n",
      "刘波 137\n",
      "李俊 146\n",
      "无 352\n",
      "王勇 261\n",
      "高峰 152\n",
      "王磊 169\n",
      "杨光 128\n",
      "杨波 168\n",
      "新华村 109\n",
      "王强 204\n",
      "李超 117\n",
      "刘健 102\n",
      "陈勇 187\n",
      "张磊 147\n",
      "张伟 279\n",
      "张勇 285\n",
      "王东 112\n",
      "李伟 253\n",
      "王毅 120\n",
      "王刚 181\n",
      "刘强 162\n",
      "陈平 119\n",
      "刘军 228\n",
      "刘敏 162\n",
      "李红 101\n",
      "王宏 135\n",
      "张平 115\n",
      "张建华 150\n",
      "王峰 140\n",
      "张军 199\n",
      "陈华 120\n",
      "张帆 105\n",
      "李健 134\n",
      "李静 134\n",
      "刘勇 223\n",
      "张强 149\n",
      "刘辉 124\n",
      "刘超 107\n",
      "王鹏 147\n",
      "王敏 164\n",
      "李涛 147\n",
      "张浩 103\n",
      "李军 274\n",
      "张毅 107\n",
      "李林 107\n",
      "王志刚 101\n",
      "刘刚 150\n",
      "张颖 101\n",
      "王琳 104\n",
      "李建华 130\n",
      "王飞 110\n",
      "万达广场 130\n",
      "李刚 187\n",
      "张宁 124\n",
      "李勇 232\n",
      "李莉 143\n",
      "王俊 124\n",
      "王涛 147\n",
      "王军 234\n",
      "刘畅 108\n",
      "吴刚 107\n",
      "王宁 103\n",
      "李华 133\n",
      "王健 203\n",
      "刘洋 140\n",
      "刘峰 123\n",
      "石磊 118\n",
      "杨斌 127\n",
      "王林 118\n",
      "黄勇 116\n",
      "王宇 104\n",
      "陈明 116\n",
      "陈敏 117\n",
      "杨明 105\n",
      "张斌 151\n",
      "刘鹏 101\n"
     ]
    }
   ],
   "source": [
    "print('包含有大量KBID的实体：')\n",
    "for k, v in entity_to_kbids.items():\n",
    "    if len(v) > 100:\n",
    "        print(k, len(v))"
   ]
  },
  {
   "cell_type": "code",
   "execution_count": 66,
   "metadata": {},
   "outputs": [
    {
     "data": {
      "image/png": "[encoded data removed]",
      "text/plain": [
       "<Figure size 432x288 with 1 Axes>"
      ]
     },
     "metadata": {
      "needs_background": "light"
     },
     "output_type": "display_data"
    }
   ],
   "source": [
    "text_lengths = [min(1000, len(v)) for v in kbid_to_text.values()]\n",
    "sns.distplot(text_lengths, kde=False, bins=10)\n",
    "plt.show()"
   ]
  },
  {
   "cell_type": "code",
   "execution_count": null,
   "metadata": {},
   "outputs": [],
   "source": []
  },
  {
   "cell_type": "code",
   "execution_count": null,
   "metadata": {},
   "outputs": [],
   "source": []
  }
 ],
 "metadata": {
  "kernelspec": {
   "display_name": "Python 3",
   "language": "python",
   "name": "python3"
  },
  "language_info": {
   "codemirror_mode": {
    "name": "ipython",
    "version": 3
   },
   "file_extension": ".py",
   "mimetype": "text/x-python",
   "name": "python",
   "nbconvert_exporter": "python",
   "pygments_lexer": "ipython3",
   "version": "3.7.6"
  },
  "toc": {
   "base_numbering": 1,
   "nav_menu": {},
   "number_sections": true,
   "sideBar": true,
   "skip_h1_title": false,
   "title_cell": "Table of Contents",
   "title_sidebar": "Contents",
   "toc_cell": false,
   "toc_position": {},
   "toc_section_display": true,
   "toc_window_display": false
  }
 },
 "nbformat": 4,
 "nbformat_minor": 4
}
